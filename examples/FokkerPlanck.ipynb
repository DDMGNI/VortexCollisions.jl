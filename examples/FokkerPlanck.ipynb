{
 "cells": [
  {
   "cell_type": "code",
   "execution_count": null,
   "metadata": {
    "collapsed": true
   },
   "outputs": [],
   "source": [
    "using VortexCollisions"
   ]
  },
  {
   "cell_type": "code",
   "execution_count": null,
   "metadata": {
    "collapsed": true
   },
   "outputs": [],
   "source": [
    "using PyPlot"
   ]
  },
  {
   "cell_type": "code",
   "execution_count": null,
   "metadata": {
    "collapsed": true
   },
   "outputs": [],
   "source": [
    "Δt = 2E-6;\n",
    "nt = 1000;"
   ]
  },
  {
   "cell_type": "code",
   "execution_count": null,
   "metadata": {
    "collapsed": true
   },
   "outputs": [],
   "source": [
    "M = 64;\n",
    "N = 64;"
   ]
  },
  {
   "cell_type": "code",
   "execution_count": null,
   "metadata": {
    "collapsed": true
   },
   "outputs": [],
   "source": [
    "Mcut = M;\n",
    "Ncut = N;"
   ]
  },
  {
   "cell_type": "code",
   "execution_count": null,
   "metadata": {},
   "outputs": [],
   "source": [
    "gr = Grid2d(M,N)"
   ]
  },
  {
   "cell_type": "code",
   "execution_count": null,
   "metadata": {},
   "outputs": [],
   "source": [
    "ft = FourierTransform(gr, mcut=Mcut, ncut=Ncut)"
   ]
  },
  {
   "cell_type": "code",
   "execution_count": null,
   "metadata": {},
   "outputs": [],
   "source": [
    "op = FokkerPlanckOperator(gr, ft)"
   ]
  },
  {
   "cell_type": "code",
   "execution_count": null,
   "metadata": {
    "collapsed": true
   },
   "outputs": [],
   "source": [
    "const a = 1;\n",
    "const b = 2;"
   ]
  },
  {
   "cell_type": "code",
   "execution_count": null,
   "metadata": {},
   "outputs": [],
   "source": [
    "function u_init(x,y)\n",
    "    exp(a*cos(x-π) + b*cos(y-π))\n",
    "end"
   ]
  },
  {
   "cell_type": "code",
   "execution_count": null,
   "metadata": {
    "collapsed": true
   },
   "outputs": [],
   "source": [
    "u₀ = get_field(gr);"
   ]
  },
  {
   "cell_type": "code",
   "execution_count": null,
   "metadata": {
    "collapsed": true
   },
   "outputs": [],
   "source": [
    "for j in 1:size(u₀,2)\n",
    "    for i in 1:size(u₀,1)\n",
    "         u₀[i,j]  = u_init(gr.x[i], gr.y[j])\n",
    "    end\n",
    "end"
   ]
  },
  {
   "cell_type": "code",
   "execution_count": null,
   "metadata": {},
   "outputs": [],
   "source": [
    "figure()\n",
    "contour(u₀, colors=\"k\")\n",
    "pcolormesh(u₀)\n",
    "colorbar()"
   ]
  },
  {
   "cell_type": "code",
   "execution_count": null,
   "metadata": {
    "collapsed": true
   },
   "outputs": [],
   "source": [
    "f₀ = zeros(u₀);"
   ]
  },
  {
   "cell_type": "code",
   "execution_count": null,
   "metadata": {
    "collapsed": true
   },
   "outputs": [],
   "source": [
    "collision_operator!(op, u₀, f₀);"
   ]
  },
  {
   "cell_type": "code",
   "execution_count": null,
   "metadata": {},
   "outputs": [],
   "source": [
    "figure()\n",
    "pcolormesh(f₀)\n",
    "colorbar()"
   ]
  },
  {
   "cell_type": "code",
   "execution_count": null,
   "metadata": {
    "collapsed": true
   },
   "outputs": [],
   "source": [
    "u = Vector{Matrix{eltype(u₀)}}(nt+1)\n",
    "for n in 1:length(u)\n",
    "    u[n] = zeros(u₀)\n",
    "end\n",
    "u[1] .= u₀;"
   ]
  },
  {
   "cell_type": "code",
   "execution_count": null,
   "metadata": {
    "collapsed": true
   },
   "outputs": [],
   "source": [
    "for n in 1:nt\n",
    "    timestep!(op, u[n], u[n+1], Δt)\n",
    "end"
   ]
  },
  {
   "cell_type": "code",
   "execution_count": null,
   "metadata": {
    "collapsed": true
   },
   "outputs": [],
   "source": [
    "nplot = nt+1\n",
    "u₁ = u[nplot];"
   ]
  },
  {
   "cell_type": "code",
   "execution_count": null,
   "metadata": {},
   "outputs": [],
   "source": [
    "figure(figsize=(12,5))\n",
    "\n",
    "subplot(121)\n",
    "contour(u₀, colors=\"k\")\n",
    "pcolormesh(u₀)\n",
    "colorbar()\n",
    "title(\"Initial Condition\")\n",
    "\n",
    "subplot(122)\n",
    "contour(u₁, colors=\"k\")\n",
    "pcolormesh(u₁)\n",
    "colorbar()\n",
    "title(\"Final Solution\")"
   ]
  },
  {
   "cell_type": "code",
   "execution_count": null,
   "metadata": {
    "collapsed": true
   },
   "outputs": [],
   "source": [
    "# compute energy\n",
    "h₀ = get_field(gr);\n",
    "h₁ = get_field(gr);"
   ]
  },
  {
   "cell_type": "code",
   "execution_count": null,
   "metadata": {
    "collapsed": true
   },
   "outputs": [],
   "source": [
    "uhat = get_trans(ft)\n",
    "hhat = get_trans(ft)\n",
    "\n",
    "prfft!(ft, u₀, uhat)\n",
    "hhat .= op.Δ⁻¹ .* uhat\n",
    "irfft!(ft, hhat, h₀)\n",
    "\n",
    "prfft!(ft, u₁, uhat)\n",
    "hhat .= op.Δ⁻¹ .* uhat\n",
    "irfft!(ft, hhat, h₁)\n",
    ";"
   ]
  },
  {
   "cell_type": "code",
   "execution_count": null,
   "metadata": {},
   "outputs": [],
   "source": [
    "figure(figsize=(12,5))\n",
    "\n",
    "subplot(121)\n",
    "scatter(u₀[:], h₀[:])\n",
    "title(\"Initial Condition\")\n",
    "xlabel(\"ω\")\n",
    "ylabel(\"h\")\n",
    "\n",
    "subplot(122)\n",
    "scatter(u₁[:], h₁[:])\n",
    "title(\"Final Solution\")\n",
    "xlabel(\"ω\")\n",
    "ylabel(\"h\")"
   ]
  },
  {
   "cell_type": "code",
   "execution_count": null,
   "metadata": {
    "collapsed": true
   },
   "outputs": [],
   "source": []
  }
 ],
 "metadata": {
  "kernelspec": {
   "display_name": "Julia 0.6.0-pre.beta",
   "language": "julia",
   "name": "julia-0.6"
  },
  "language_info": {
   "file_extension": ".jl",
   "mimetype": "application/julia",
   "name": "julia",
   "version": "0.6.0"
  }
 },
 "nbformat": 4,
 "nbformat_minor": 2
}
