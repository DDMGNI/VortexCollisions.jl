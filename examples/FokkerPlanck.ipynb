{
 "cells": [
  {
   "cell_type": "code",
   "execution_count": null,
   "metadata": {
    "collapsed": true
   },
   "outputs": [],
   "source": [
    "using PyPlot"
   ]
  },
  {
   "cell_type": "code",
   "execution_count": null,
   "metadata": {
    "collapsed": true
   },
   "outputs": [],
   "source": [
    "using HDF5"
   ]
  },
  {
   "cell_type": "code",
   "execution_count": null,
   "metadata": {},
   "outputs": [],
   "source": [
    "h5 = h5open(\"FokkerPlanck_dt1E-6_nt10000.h5\", \"r\")\n",
    "#h5 = h5open(\"FokkerPlanck_exp_cos_dt1E-6_nt10.h5\", \"r\")\n",
    "#h5 = h5open(\"FokkerPlanck_sin4x_dt1E-6_nt10.h5\", \"r\")\n",
    "#h5 = h5open(\"FokkerPlanck_sinx4_dt1E-6_nt10.h5\", \"r\")"
   ]
  },
  {
   "cell_type": "code",
   "execution_count": null,
   "metadata": {},
   "outputs": [],
   "source": [
    "nplot = size(h5[\"ω\"],3)"
   ]
  },
  {
   "cell_type": "code",
   "execution_count": null,
   "metadata": {
    "collapsed": true
   },
   "outputs": [],
   "source": [
    "ω₀ = view(h5[\"ω\"][:,:,1],     :, :, 1)\n",
    "ω₁ = view(h5[\"ω\"][:,:,nplot], :, :, 1)\n",
    "ϕ₀ = view(h5[\"ϕ\"][:,:,1],     :, :, 1)\n",
    "ϕ₁ = view(h5[\"ϕ\"][:,:,nplot], :, :, 1)\n",
    ";"
   ]
  },
  {
   "cell_type": "code",
   "execution_count": null,
   "metadata": {
    "collapsed": true
   },
   "outputs": [],
   "source": [
    "h = zeros(nplot)\n",
    "for n in 1:nplot\n",
    "    h[n] = sum_kbn(h5[\"ω\"][:,:,n] .* h5[\"ϕ\"][:,:,n])\n",
    "end"
   ]
  },
  {
   "cell_type": "code",
   "execution_count": null,
   "metadata": {
    "collapsed": true
   },
   "outputs": [],
   "source": [
    "ℰ = zeros(nplot)\n",
    "for n in 1:nplot\n",
    "    ℰ[n] = sum_kbn(h5[\"ω\"][:,:,n] .* h5[\"ω\"][:,:,n])\n",
    "end"
   ]
  },
  {
   "cell_type": "code",
   "execution_count": null,
   "metadata": {},
   "outputs": [],
   "source": [
    "figure(figsize=(12,5))\n",
    "\n",
    "subplot(121)\n",
    "contour(ω₀, colors=\"k\")\n",
    "pcolormesh(ω₀)\n",
    "colorbar()\n",
    "title(\"Initial Condition\")\n",
    "\n",
    "subplot(122)\n",
    "contour(ω₁, colors=\"k\")\n",
    "pcolormesh(ω₁)\n",
    "colorbar()\n",
    "title(\"Final Solution\")\n",
    "\n",
    "savefig(\"FokkerPlanck_ω.png\", dpi=150)"
   ]
  },
  {
   "cell_type": "code",
   "execution_count": null,
   "metadata": {},
   "outputs": [],
   "source": [
    "figure(figsize=(12,5))\n",
    "\n",
    "subplot(121)\n",
    "contour(ϕ₀, colors=\"k\")\n",
    "pcolormesh(ϕ₀)\n",
    "colorbar()\n",
    "title(\"Initial Condition\")\n",
    "\n",
    "subplot(122)\n",
    "contour(ϕ₁, colors=\"k\")\n",
    "pcolormesh(ϕ₁)\n",
    "colorbar()\n",
    "title(\"Final Solution\")\n",
    "\n",
    "savefig(\"FokkerPlanck_ϕ.png\", dpi=150)"
   ]
  },
  {
   "cell_type": "code",
   "execution_count": null,
   "metadata": {},
   "outputs": [],
   "source": [
    "figure(figsize=(12,5))\n",
    "\n",
    "subplot(121)\n",
    "scatter(ω₀[:], ϕ₀[:])\n",
    "title(\"Initial Condition\")\n",
    "xlabel(\"ω\")\n",
    "ylabel(\"ϕ\")\n",
    "\n",
    "subplot(122)\n",
    "scatter(ω₁[:], ϕ₁[:])\n",
    "title(\"Final Solution\")\n",
    "xlabel(\"ω\")\n",
    "ylabel(\"ϕ\")\n",
    "\n",
    "savefig(\"FokkerPlanck_scatter.png\", dpi=150)"
   ]
  },
  {
   "cell_type": "code",
   "execution_count": null,
   "metadata": {},
   "outputs": [],
   "source": [
    "figure(figsize=(8,4))\n",
    "plot((h-h[1])/h[1])\n",
    "xlabel(\"t\")\n",
    "ylabel(\"(h-h₀)/h₀\")"
   ]
  },
  {
   "cell_type": "code",
   "execution_count": null,
   "metadata": {},
   "outputs": [],
   "source": [
    "figure(figsize=(8,4))\n",
    "plot((ℰ-ℰ[1])/ℰ[1])\n",
    "xlabel(\"t\")\n",
    "ylabel(\"(ℰ-ℰ₀)/ℰ₀\")"
   ]
  },
  {
   "cell_type": "code",
   "execution_count": null,
   "metadata": {
    "collapsed": true
   },
   "outputs": [],
   "source": []
  }
 ],
 "metadata": {
  "kernelspec": {
   "display_name": "Julia 0.6.0-pre.beta",
   "language": "julia",
   "name": "julia-0.6"
  },
  "language_info": {
   "file_extension": ".jl",
   "mimetype": "application/julia",
   "name": "julia",
   "version": "0.6.0"
  }
 },
 "nbformat": 4,
 "nbformat_minor": 2
}
