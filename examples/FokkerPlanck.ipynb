{
 "cells": [
  {
   "cell_type": "code",
   "execution_count": null,
   "metadata": {
    "collapsed": true
   },
   "outputs": [],
   "source": [
    "using PyPlot"
   ]
  },
  {
   "cell_type": "code",
   "execution_count": null,
   "metadata": {
    "collapsed": true
   },
   "outputs": [],
   "source": [
    "using HDF5"
   ]
  },
  {
   "cell_type": "code",
   "execution_count": null,
   "metadata": {},
   "outputs": [],
   "source": [
    "#runid = \"FokkerPlanck_exp_cos_dt1E-6_nt10\"\n",
    "#runid = \"FokkerPlanck_exp_r_dt1E-6_nt100\"\n",
    "#runid = \"FokkerPlanck_sinx4_dt1E-3_nt10\"\n",
    "#runid = \"FokkerPlanck_sinx4siny4_dt1E-3_nt10\"\n",
    "#runid = \"FokkerPlanck_sinx4sinyetc_dt1E-3_nt10\""
   ]
  },
  {
   "cell_type": "code",
   "execution_count": null,
   "metadata": {},
   "outputs": [],
   "source": [
    "#runid = \"FokkerPlanck_exp_cos_dt1E-6_nt10000\"\n",
    "#runid = \"FokkerPlanck_exp_r_dt1E-6_nt10000\"\n",
    "#runid = \"FokkerPlanck_sinx4_dt1E-3_nt10000\"\n",
    "#runid = \"FokkerPlanck_sinx4siny4_dt1E-3_nt10000\"\n",
    "#runid = \"FokkerPlanck_sinx4sinyetc_dt1E-3_nt10000\""
   ]
  },
  {
   "cell_type": "code",
   "execution_count": null,
   "metadata": {},
   "outputs": [],
   "source": [
    "h5 = h5open(runid * \".h5\", \"r\")"
   ]
  },
  {
   "cell_type": "code",
   "execution_count": null,
   "metadata": {},
   "outputs": [],
   "source": [
    "nplot = size(h5[\"ω\"],3)\n",
    "#nplot = 11"
   ]
  },
  {
   "cell_type": "code",
   "execution_count": null,
   "metadata": {},
   "outputs": [],
   "source": [
    "ω₀ = view(h5[\"ω\"][:,:,1],     :, :, 1)\n",
    "ω₁ = view(h5[\"ω\"][:,:,nplot], :, :, 1)\n",
    "ϕ₀ = view(h5[\"ϕ\"][:,:,1],     :, :, 1)\n",
    "ϕ₁ = view(h5[\"ϕ\"][:,:,nplot], :, :, 1)\n",
    ";"
   ]
  },
  {
   "cell_type": "code",
   "execution_count": null,
   "metadata": {},
   "outputs": [],
   "source": [
    "h = zeros(nplot)\n",
    "for n in 1:nplot\n",
    "    h[n] = sum_kbn(h5[\"ω\"][:,:,n] .* h5[\"ϕ\"][:,:,n])\n",
    "end"
   ]
  },
  {
   "cell_type": "code",
   "execution_count": null,
   "metadata": {},
   "outputs": [],
   "source": [
    "ℰ = zeros(nplot)\n",
    "for n in 1:nplot\n",
    "    ℰ[n] = sum_kbn(h5[\"ω\"][:,:,n] .* h5[\"ω\"][:,:,n])\n",
    "end"
   ]
  },
  {
   "cell_type": "code",
   "execution_count": null,
   "metadata": {},
   "outputs": [],
   "source": [
    "using VortexCollisions"
   ]
  },
  {
   "cell_type": "code",
   "execution_count": null,
   "metadata": {},
   "outputs": [],
   "source": [
    "gr = Grid2d(size(ω₀,1), size(ω₀,2))"
   ]
  },
  {
   "cell_type": "code",
   "execution_count": null,
   "metadata": {},
   "outputs": [],
   "source": [
    "ft = FourierTransform(gr)"
   ]
  },
  {
   "cell_type": "code",
   "execution_count": null,
   "metadata": {},
   "outputs": [],
   "source": [
    "ω̂₀ = get_trans(ft);\n",
    "ω̂₁ = get_trans(ft);"
   ]
  },
  {
   "cell_type": "code",
   "execution_count": null,
   "metadata": {},
   "outputs": [],
   "source": [
    "prfft!(ft, Array(ω₀), ω̂₀);\n",
    "prfft!(ft, Array(ω₁), ω̂₁);"
   ]
  },
  {
   "cell_type": "code",
   "execution_count": null,
   "metadata": {},
   "outputs": [],
   "source": [
    "figure(figsize=(12,5))\n",
    "\n",
    "subplot(121)\n",
    "pcolormesh(abs.(ω̂₀))\n",
    "colorbar()\n",
    "title(\"Initial Condition ω̂\")\n",
    "\n",
    "subplot(122)\n",
    "pcolormesh(abs.(ω̂₁))\n",
    "colorbar()\n",
    "title(\"Final Solution ω̂\")"
   ]
  },
  {
   "cell_type": "code",
   "execution_count": null,
   "metadata": {},
   "outputs": [],
   "source": [
    "figure(figsize=(12,5))\n",
    "\n",
    "subplot(121)\n",
    "contour(ω₀, colors=\"k\")\n",
    "pcolormesh(ω₀)\n",
    "colorbar()\n",
    "title(\"Initial Condition ω\")\n",
    "\n",
    "subplot(122)\n",
    "contour(ω₁, colors=\"k\")\n",
    "pcolormesh(ω₁)\n",
    "colorbar()\n",
    "title(\"Final Solution ω\")\n",
    "\n",
    "savefig(runid * \"_ω.png\", dpi=150)"
   ]
  },
  {
   "cell_type": "code",
   "execution_count": null,
   "metadata": {},
   "outputs": [],
   "source": [
    "figure(figsize=(12,5))\n",
    "\n",
    "subplot(121)\n",
    "contour(ϕ₀, colors=\"k\")\n",
    "pcolormesh(ϕ₀)\n",
    "colorbar()\n",
    "title(\"Initial Condition ϕ\")\n",
    "\n",
    "subplot(122)\n",
    "contour(ϕ₁, colors=\"k\")\n",
    "pcolormesh(ϕ₁)\n",
    "colorbar()\n",
    "title(\"Final Solution ϕ\")\n",
    "\n",
    "savefig(runid * \"_ϕ.png\", dpi=150)"
   ]
  },
  {
   "cell_type": "code",
   "execution_count": null,
   "metadata": {},
   "outputs": [],
   "source": [
    "figure(figsize=(12,5))\n",
    "\n",
    "subplot(121)\n",
    "scatter(ϕ₀[:], ω₀[:])\n",
    "title(\"Initial Condition ω(ϕ)\")\n",
    "xlabel(\"ϕ\")\n",
    "ylabel(\"ω\")\n",
    "\n",
    "subplot(122)\n",
    "scatter(ϕ₁[:], ω₁[:])\n",
    "title(\"Final Solution ω(ϕ)\")\n",
    "xlabel(\"ϕ\")\n",
    "ylabel(\"ω\")\n",
    "\n",
    "savefig(runid * \"_scatter.png\", dpi=150)"
   ]
  },
  {
   "cell_type": "code",
   "execution_count": null,
   "metadata": {},
   "outputs": [],
   "source": [
    "figure(figsize=(8,4))\n",
    "plot((h-h[1])/h[1])\n",
    "xlabel(\"t\")\n",
    "ylabel(\"(h-h₀)/h₀\")\n",
    "title(\"Energy\")\n",
    "savefig(runid * \"_energy.png\", dpi=150)"
   ]
  },
  {
   "cell_type": "code",
   "execution_count": null,
   "metadata": {},
   "outputs": [],
   "source": [
    "figure(figsize=(8,4))\n",
    "plot((ℰ-ℰ[1])/ℰ[1])\n",
    "xlabel(\"t\")\n",
    "ylabel(\"(ℰ-ℰ₀)/ℰ₀\")\n",
    "title(\"Enstrophy\")\n",
    "savefig(runid * \"_enstrophy.png\", dpi=150)"
   ]
  },
  {
   "cell_type": "code",
   "execution_count": null,
   "metadata": {},
   "outputs": [],
   "source": [
    "close(h5)"
   ]
  },
  {
   "cell_type": "code",
   "execution_count": null,
   "metadata": {
    "collapsed": true
   },
   "outputs": [],
   "source": []
  }
 ],
 "metadata": {
  "kernelspec": {
   "display_name": "Julia 0.6.0-pre.beta",
   "language": "julia",
   "name": "julia-0.6"
  },
  "language_info": {
   "file_extension": ".jl",
   "mimetype": "application/julia",
   "name": "julia",
   "version": "0.6.0"
  }
 },
 "nbformat": 4,
 "nbformat_minor": 2
}
