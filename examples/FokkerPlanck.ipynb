{
 "cells": [
  {
   "cell_type": "code",
   "execution_count": null,
   "metadata": {
    "collapsed": true
   },
   "outputs": [],
   "source": [
    "using PyPlot"
   ]
  },
  {
   "cell_type": "code",
   "execution_count": null,
   "metadata": {
    "collapsed": true
   },
   "outputs": [],
   "source": [
    "using HDF5"
   ]
  },
  {
   "cell_type": "code",
   "execution_count": null,
   "metadata": {},
   "outputs": [],
   "source": [
    "h5 = h5open(\"FokkerPlanck.h5\", \"r\")"
   ]
  },
  {
   "cell_type": "code",
   "execution_count": null,
   "metadata": {},
   "outputs": [],
   "source": [
    "nplot = size(h5[\"ω\"],3)"
   ]
  },
  {
   "cell_type": "code",
   "execution_count": null,
   "metadata": {},
   "outputs": [],
   "source": [
    "ω₀ = view(h5[\"ω\"][:,:,1],     :, :, 1)\n",
    "ω₁ = view(h5[\"ω\"][:,:,nplot], :, :, 1)\n",
    "ϕ₀ = view(h5[\"ϕ\"][:,:,1],     :, :, 1)\n",
    "ϕ₁ = view(h5[\"ϕ\"][:,:,nplot], :, :, 1)\n",
    ";"
   ]
  },
  {
   "cell_type": "code",
   "execution_count": null,
   "metadata": {},
   "outputs": [],
   "source": [
    "figure(figsize=(12,5))\n",
    "\n",
    "subplot(121)\n",
    "contour(ω₀, colors=\"k\")\n",
    "pcolormesh(ω₀)\n",
    "colorbar()\n",
    "title(\"Initial Condition\")\n",
    "\n",
    "subplot(122)\n",
    "contour(ω₁, colors=\"k\")\n",
    "pcolormesh(ω₁)\n",
    "colorbar()\n",
    "title(\"Final Solution\")\n",
    "\n",
    "savefig(\"FokkerPlanck_ω.png\", dpi=150)"
   ]
  },
  {
   "cell_type": "code",
   "execution_count": null,
   "metadata": {},
   "outputs": [],
   "source": [
    "figure(figsize=(12,5))\n",
    "\n",
    "subplot(121)\n",
    "contour(ϕ₀, colors=\"k\")\n",
    "pcolormesh(ϕ₀)\n",
    "colorbar()\n",
    "title(\"Initial Condition\")\n",
    "\n",
    "subplot(122)\n",
    "contour(ϕ₁, colors=\"k\")\n",
    "pcolormesh(ϕ₁)\n",
    "colorbar()\n",
    "title(\"Final Solution\")\n",
    "\n",
    "savefig(\"FokkerPlanck_ϕ.png\", dpi=150)"
   ]
  },
  {
   "cell_type": "code",
   "execution_count": null,
   "metadata": {},
   "outputs": [],
   "source": [
    "figure(figsize=(12,5))\n",
    "\n",
    "subplot(121)\n",
    "scatter(ω₀[:], ϕ₀[:])\n",
    "title(\"Initial Condition\")\n",
    "xlabel(\"ω\")\n",
    "ylabel(\"ϕ\")\n",
    "\n",
    "subplot(122)\n",
    "scatter(ω₁[:], ϕ₁[:])\n",
    "title(\"Final Solution\")\n",
    "xlabel(\"ω\")\n",
    "ylabel(\"ϕ\")\n",
    "\n",
    "savefig(\"FokkerPlanck_scatter.png\", dpi=150)"
   ]
  },
  {
   "cell_type": "code",
   "execution_count": null,
   "metadata": {
    "collapsed": true
   },
   "outputs": [],
   "source": []
  }
 ],
 "metadata": {
  "kernelspec": {
   "display_name": "Julia 0.6.0-pre.beta",
   "language": "julia",
   "name": "julia-0.6"
  },
  "language_info": {
   "file_extension": ".jl",
   "mimetype": "application/julia",
   "name": "julia",
   "version": "0.6.0"
  }
 },
 "nbformat": 4,
 "nbformat_minor": 2
}
